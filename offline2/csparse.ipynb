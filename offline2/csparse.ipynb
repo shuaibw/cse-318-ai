{
 "cells": [
  {
   "cell_type": "code",
   "execution_count": 3,
   "metadata": {},
   "outputs": [
    {
     "name": "stdout",
     "output_type": "stream",
     "text": [
      "{'d-10-01': ([24379, 93671906, 665, 1002, 120250533], [19088, 115662652, 296, 382, 120653001], [102.932572, 106583.690011, 2.999941, 4.464361, 147630.699658]), 'd-10-06': ([451284, 2214587, 84364, 83083, 7044944], [362926, 3129324, 50933, 51488, 8096524], [498.279715, 2425.255066, 87.605496, 87.006991, 8359.820252]), 'd-10-07': ([143859, 46987974, 10424, 15372, 45195402], [105117, 55151903, 6717, 11173, 45973700], [155.58115, 52094.803179, 14.834497, 17.27403, 53808.870652]), 'd-10-08': ([524365, 2219501, 2318987, 2322561, 255641], [481008, 3071439, 1815075, 1840567, 302907], [582.316691, 2475.12289, 2437.652453, 2457.455625, 300.533402]), 'd-10-09': ([30875, 2387247067, 1328349, 1711481, 569883266], [27011, 3868210293, 1004392, 1319629, 749575720], [33.05554, 2641196.001217, 1370.634878, 1795.98435, 668437.709968])}\n"
     ]
    }
   ],
   "source": [
    "def parse_data(filename):\n",
    "    testlog={}\n",
    "    with open(filename, 'r') as f:\n",
    "        for line in f:\n",
    "            line=line.strip()\n",
    "            if not line:\n",
    "                continue\n",
    "            if line.startswith(\"Running\"):\n",
    "                curtest=line.split('/')[-1].split('.')[0]\n",
    "                testlog[curtest]=([], [], [])\n",
    "            elif line.startswith(\"--Using comparator:\"):\n",
    "                curvah=line.split(' ')[-1].replace('-', '')\n",
    "            elif line.startswith(\"Explored\"):\n",
    "                explored_nodes=int(line.split(' ')[-1])\n",
    "                testlog[curtest][0].append(explored_nodes)\n",
    "            elif line.startswith(\"Backtracks\"):\n",
    "                backtracks=int(line.split(' ')[-1])\n",
    "                testlog[curtest][1].append(backtracks)\n",
    "            elif line.startswith(\"Time\"):\n",
    "                time=float(line.split(' ')[-1])\n",
    "                testlog[curtest][2].append(time)\n",
    "    return testlog\n",
    "data_fc = parse_data(\"withfc.txt\")\n",
    "data_bt = parse_data(\"withoutfc.txt\")\n",
    "print(data_fc)"
   ]
  },
  {
   "cell_type": "code",
   "execution_count": 4,
   "metadata": {},
   "outputs": [
    {
     "name": "stdout",
     "output_type": "stream",
     "text": [
      "d-10-01\n",
      "([24379, 93671906, 665, 1002, 120250533], [19088, 115662652, 296, 382, 120653001], [102.932572, 106583.690011, 2.999941, 4.464361, 147630.699658])\n",
      "d-10-06\n",
      "([451284, 2214587, 84364, 83083, 7044944], [362926, 3129324, 50933, 51488, 8096524], [498.279715, 2425.255066, 87.605496, 87.006991, 8359.820252])\n",
      "d-10-07\n",
      "([143859, 46987974, 10424, 15372, 45195402], [105117, 55151903, 6717, 11173, 45973700], [155.58115, 52094.803179, 14.834497, 17.27403, 53808.870652])\n",
      "d-10-08\n",
      "([524365, 2219501, 2318987, 2322561, 255641], [481008, 3071439, 1815075, 1840567, 302907], [582.316691, 2475.12289, 2437.652453, 2457.455625, 300.533402])\n",
      "d-10-09\n",
      "([30875, 2387247067, 1328349, 1711481, 569883266], [27011, 3868210293, 1004392, 1319629, 749575720], [33.05554, 2641196.001217, 1370.634878, 1795.98435, 668437.709968])\n"
     ]
    }
   ],
   "source": [
    "for k,v in data_fc.items():\n",
    "    print(k)\n",
    "    print(v)"
   ]
  },
  {
   "cell_type": "code",
   "execution_count": 5,
   "metadata": {},
   "outputs": [],
   "source": [
    "import pandas as pd\n",
    "import numpy as np\n",
    "import altair as alt"
   ]
  },
  {
   "cell_type": "code",
   "execution_count": 22,
   "metadata": {},
   "outputs": [
    {
     "name": "stdout",
     "output_type": "stream",
     "text": [
      "   Test Case Heuristic    Explored  Backtracks     Time Solver\n",
      "0    d-10-01      VAH1       24379       19088      103     FC\n",
      "1    d-10-01      VAH2    93671906   115662652   106584     FC\n",
      "2    d-10-01      VAH3         665         296        3     FC\n",
      "3    d-10-01      VAH4        1002         382        4     FC\n",
      "4    d-10-01      VAH5   120250533   120653001   147631     FC\n",
      "5    d-10-01      VAH1      450473     1096627      299     BT\n",
      "6    d-10-01      VAH2     2928097     7424685     1815     BT\n",
      "7    d-10-01      VAH3      217384      588202      137     BT\n",
      "8    d-10-01      VAH4      217384      588202      144     BT\n",
      "9    d-10-01      VAH5    69455201   156923151    51293     BT\n",
      "10   d-10-06      VAH1      451284      362926      498     FC\n",
      "11   d-10-06      VAH2     2214587     3129324     2425     FC\n",
      "12   d-10-06      VAH3       84364       50933       88     FC\n",
      "13   d-10-06      VAH4       83083       51488       87     FC\n",
      "14   d-10-06      VAH5     7044944     8096524     8360     FC\n",
      "15   d-10-06      VAH1      119067      355076       71     BT\n",
      "16   d-10-06      VAH2      200637      519527      122     BT\n",
      "17   d-10-06      VAH3       20774       61923       15     BT\n",
      "18   d-10-06      VAH4       20769       61906       17     BT\n",
      "19   d-10-06      VAH5      578643     1485599      435     BT\n",
      "20   d-10-07      VAH1      143859      105117      156     FC\n",
      "21   d-10-07      VAH2    46987974    55151903    52095     FC\n",
      "22   d-10-07      VAH3       10424        6717       15     FC\n",
      "23   d-10-07      VAH4       15372       11173       17     FC\n",
      "24   d-10-07      VAH5    45195402    45973700    53809     FC\n",
      "25   d-10-07      VAH1      100189      267501       68     BT\n",
      "26   d-10-07      VAH2     3467200     8341173     2145     BT\n",
      "27   d-10-07      VAH3       48868      110819       32     BT\n",
      "28   d-10-07      VAH4       48868      110819       36     BT\n",
      "29   d-10-07      VAH5   135783001   304518847    99503     BT\n",
      "30   d-10-08      VAH1      524365      481008      582     FC\n",
      "31   d-10-08      VAH2     2219501     3071439     2475     FC\n",
      "32   d-10-08      VAH3     2318987     1815075     2438     FC\n",
      "33   d-10-08      VAH4     2322561     1840567     2457     FC\n",
      "34   d-10-08      VAH5      255641      302907      301     FC\n",
      "35   d-10-08      VAH1      424230     1230159      261     BT\n",
      "36   d-10-08      VAH2   270678388   679271441   151577     BT\n",
      "37   d-10-08      VAH3    30045815    86260528    20177     BT\n",
      "38   d-10-08      VAH4    30045815    86260528    20751     BT\n",
      "39   d-10-08      VAH5   217316866   536891604   164085     BT\n",
      "40   d-10-09      VAH1       30875       27011       33     FC\n",
      "41   d-10-09      VAH2  2387247067  3868210293  2641196     FC\n",
      "42   d-10-09      VAH3     1328349     1004392     1371     FC\n",
      "43   d-10-09      VAH4     1711481     1319629     1796     FC\n",
      "44   d-10-09      VAH5   569883266   749575720   668438     FC\n",
      "45   d-10-09      VAH1     1225880     3680281      703     BT\n",
      "46   d-10-09      VAH2      203984      590622      124     BT\n",
      "47   d-10-09      VAH3    16177286    48534935    10209     BT\n",
      "48   d-10-09      VAH4    16287885    49055830    10547     BT\n",
      "49   d-10-09      VAH5    72185277   211931801    56123     BT\n"
     ]
    }
   ],
   "source": [
    "df_fc = pd.DataFrame(index=data_fc.keys(), columns=['VAH1', 'VAH2', 'VAH3', 'VAH4', 'VAH5'])\n",
    "df_bt = pd.DataFrame(index=data_bt.keys(), columns=['VAH1', 'VAH2', 'VAH3', 'VAH4', 'VAH5'])\n",
    "\n",
    "for k,v in data_fc.items():\n",
    "    df_fc.loc[k] = v[0]\n",
    "for k,v in data_bt.items():\n",
    "    df_bt.loc[k] = v[0] \n",
    "def prep_df(df, name):\n",
    "    df = df.stack().reset_index()\n",
    "    df.columns = ['Test Case', 'Heuristic', 'Explored']\n",
    "    df['Solver'] = name\n",
    "    return df\n",
    "\n",
    "df1 = prep_df(df_fc, 'FC')\n",
    "df2 = prep_df(df_bt, 'BT')\n",
    "\n",
    "bt_nodes=[]\n",
    "time=[]\n",
    "\n",
    "for k,v in data_fc.items():\n",
    "    bt_nodes = bt_nodes + v[1]\n",
    "    time = time + [round(i) for i in v[2]]\n",
    "for k,v in data_bt.items():\n",
    "    bt_nodes = bt_nodes + v[1]\n",
    "    time = time + [round(i) for i in v[2]]\n",
    "df = pd.concat([df1, df2])\n",
    "df = df.assign(Backtracks = bt_nodes, Time = time)\n",
    "df=df.reindex(columns=['Test Case', 'Heuristic', 'Explored', 'Backtracks', 'Time', 'Solver'])\n",
    "df=df.sort_values(['Test Case', 'Solver'], ascending=[True, False])\n",
    "df=df.reset_index(drop=True)\n",
    "print(df)"
   ]
  },
  {
   "cell_type": "code",
   "execution_count": 25,
   "metadata": {},
   "outputs": [
    {
     "name": "stdout",
     "output_type": "stream",
     "text": [
      "\\begin{tabular}{lllrrl}\n",
      "\\toprule\n",
      "Test Case & Heuristic &   Explored &  Backtracks &    Time & Solver \\\\\n",
      "\\midrule\n",
      "  d-10-01 &      VAH1 &      24379 &       19088 &     103 &     FC \\\\\n",
      "  d-10-01 &      VAH2 &   93671906 &   115662652 &  106584 &     FC \\\\\n",
      "  d-10-01 &      VAH3 &        665 &         296 &       3 &     FC \\\\\n",
      "  d-10-01 &      VAH4 &       1002 &         382 &       4 &     FC \\\\\n",
      "  d-10-01 &      VAH5 &  120250533 &   120653001 &  147631 &     FC \\\\\n",
      "  d-10-01 &      VAH1 &     450473 &     1096627 &     299 &     BT \\\\\n",
      "  d-10-01 &      VAH2 &    2928097 &     7424685 &    1815 &     BT \\\\\n",
      "  d-10-01 &      VAH3 &     217384 &      588202 &     137 &     BT \\\\\n",
      "  d-10-01 &      VAH4 &     217384 &      588202 &     144 &     BT \\\\\n",
      "  d-10-01 &      VAH5 &   69455201 &   156923151 &   51293 &     BT \\\\\n",
      "  d-10-06 &      VAH1 &     451284 &      362926 &     498 &     FC \\\\\n",
      "  d-10-06 &      VAH2 &    2214587 &     3129324 &    2425 &     FC \\\\\n",
      "  d-10-06 &      VAH3 &      84364 &       50933 &      88 &     FC \\\\\n",
      "  d-10-06 &      VAH4 &      83083 &       51488 &      87 &     FC \\\\\n",
      "  d-10-06 &      VAH5 &    7044944 &     8096524 &    8360 &     FC \\\\\n",
      "  d-10-06 &      VAH1 &     119067 &      355076 &      71 &     BT \\\\\n",
      "  d-10-06 &      VAH2 &     200637 &      519527 &     122 &     BT \\\\\n",
      "  d-10-06 &      VAH3 &      20774 &       61923 &      15 &     BT \\\\\n",
      "  d-10-06 &      VAH4 &      20769 &       61906 &      17 &     BT \\\\\n",
      "  d-10-06 &      VAH5 &     578643 &     1485599 &     435 &     BT \\\\\n",
      "  d-10-07 &      VAH1 &     143859 &      105117 &     156 &     FC \\\\\n",
      "  d-10-07 &      VAH2 &   46987974 &    55151903 &   52095 &     FC \\\\\n",
      "  d-10-07 &      VAH3 &      10424 &        6717 &      15 &     FC \\\\\n",
      "  d-10-07 &      VAH4 &      15372 &       11173 &      17 &     FC \\\\\n",
      "  d-10-07 &      VAH5 &   45195402 &    45973700 &   53809 &     FC \\\\\n",
      "  d-10-07 &      VAH1 &     100189 &      267501 &      68 &     BT \\\\\n",
      "  d-10-07 &      VAH2 &    3467200 &     8341173 &    2145 &     BT \\\\\n",
      "  d-10-07 &      VAH3 &      48868 &      110819 &      32 &     BT \\\\\n",
      "  d-10-07 &      VAH4 &      48868 &      110819 &      36 &     BT \\\\\n",
      "  d-10-07 &      VAH5 &  135783001 &   304518847 &   99503 &     BT \\\\\n",
      "  d-10-08 &      VAH1 &     524365 &      481008 &     582 &     FC \\\\\n",
      "  d-10-08 &      VAH2 &    2219501 &     3071439 &    2475 &     FC \\\\\n",
      "  d-10-08 &      VAH3 &    2318987 &     1815075 &    2438 &     FC \\\\\n",
      "  d-10-08 &      VAH4 &    2322561 &     1840567 &    2457 &     FC \\\\\n",
      "  d-10-08 &      VAH5 &     255641 &      302907 &     301 &     FC \\\\\n",
      "  d-10-08 &      VAH1 &     424230 &     1230159 &     261 &     BT \\\\\n",
      "  d-10-08 &      VAH2 &  270678388 &   679271441 &  151577 &     BT \\\\\n",
      "  d-10-08 &      VAH3 &   30045815 &    86260528 &   20177 &     BT \\\\\n",
      "  d-10-08 &      VAH4 &   30045815 &    86260528 &   20751 &     BT \\\\\n",
      "  d-10-08 &      VAH5 &  217316866 &   536891604 &  164085 &     BT \\\\\n",
      "  d-10-09 &      VAH1 &      30875 &       27011 &      33 &     FC \\\\\n",
      "  d-10-09 &      VAH2 & 2387247067 &  3868210293 & 2641196 &     FC \\\\\n",
      "  d-10-09 &      VAH3 &    1328349 &     1004392 &    1371 &     FC \\\\\n",
      "  d-10-09 &      VAH4 &    1711481 &     1319629 &    1796 &     FC \\\\\n",
      "  d-10-09 &      VAH5 &  569883266 &   749575720 &  668438 &     FC \\\\\n",
      "  d-10-09 &      VAH1 &    1225880 &     3680281 &     703 &     BT \\\\\n",
      "  d-10-09 &      VAH2 &     203984 &      590622 &     124 &     BT \\\\\n",
      "  d-10-09 &      VAH3 &   16177286 &    48534935 &   10209 &     BT \\\\\n",
      "  d-10-09 &      VAH4 &   16287885 &    49055830 &   10547 &     BT \\\\\n",
      "  d-10-09 &      VAH5 &   72185277 &   211931801 &   56123 &     BT \\\\\n",
      "\\bottomrule\n",
      "\\end{tabular}\n",
      "\n"
     ]
    },
    {
     "name": "stderr",
     "output_type": "stream",
     "text": [
      "C:\\Users\\anwar\\AppData\\Local\\Temp\\ipykernel_14496\\1870780046.py:1: FutureWarning: In future versions `DataFrame.to_latex` is expected to utilise the base implementation of `Styler.to_latex` for formatting and rendering. The arguments signature may therefore change. It is recommended instead to use `DataFrame.style.to_latex` which also contains additional functionality.\n",
      "  print(df.to_latex(index=False, escape=True))\n"
     ]
    }
   ],
   "source": [
    "print(df.to_latex(index=False, escape=True))"
   ]
  },
  {
   "cell_type": "code",
   "execution_count": null,
   "metadata": {},
   "outputs": [],
   "source": [
    "df_fc = pd.DataFrame(index=data_fc.keys(), columns=['VAH1', 'VAH2', 'VAH3', 'VAH4', 'VAH5'])\n",
    "df_bt = pd.DataFrame(index=data_bt.keys(), columns=['VAH1', 'VAH2', 'VAH3', 'VAH4', 'VAH5'])\n",
    "\n",
    "for k,v in data_fc.items():\n",
    "    df_fc.loc[k] = np.log(v[0])\n",
    "for k,v in data_bt.items():\n",
    "    df_bt.loc[k] = np.log(v[0]) \n",
    "def prep_df(df, name):\n",
    "    df = df.stack().reset_index()\n",
    "    df.columns = ['c1', 'c2', 'values']\n",
    "    df['Legend'] = name\n",
    "    return df\n",
    "\n",
    "df1 = prep_df(df_fc, 'FC')\n",
    "df2 = prep_df(df_bt, 'BT')\n",
    "print(df)"
   ]
  },
  {
   "cell_type": "code",
   "execution_count": 23,
   "metadata": {},
   "outputs": [
    {
     "name": "stderr",
     "output_type": "stream",
     "text": [
      "d:\\playground\\rumana_assignment\\lib\\site-packages\\altair\\utils\\core.py:317: FutureWarning: iteritems is deprecated and will be removed in a future version. Use .items instead.\n",
      "  for col_name, dtype in df.dtypes.iteritems():\n"
     ]
    },
    {
     "data": {
      "text/html": [
       "\n",
       "<div id=\"altair-viz-74a926ab5d884e3c95d645c164565b37\"></div>\n",
       "<script type=\"text/javascript\">\n",
       "  var VEGA_DEBUG = (typeof VEGA_DEBUG == \"undefined\") ? {} : VEGA_DEBUG;\n",
       "  (function(spec, embedOpt){\n",
       "    let outputDiv = document.currentScript.previousElementSibling;\n",
       "    if (outputDiv.id !== \"altair-viz-74a926ab5d884e3c95d645c164565b37\") {\n",
       "      outputDiv = document.getElementById(\"altair-viz-74a926ab5d884e3c95d645c164565b37\");\n",
       "    }\n",
       "    const paths = {\n",
       "      \"vega\": \"https://cdn.jsdelivr.net/npm//vega@5?noext\",\n",
       "      \"vega-lib\": \"https://cdn.jsdelivr.net/npm//vega-lib?noext\",\n",
       "      \"vega-lite\": \"https://cdn.jsdelivr.net/npm//vega-lite@4.17.0?noext\",\n",
       "      \"vega-embed\": \"https://cdn.jsdelivr.net/npm//vega-embed@6?noext\",\n",
       "    };\n",
       "\n",
       "    function maybeLoadScript(lib, version) {\n",
       "      var key = `${lib.replace(\"-\", \"\")}_version`;\n",
       "      return (VEGA_DEBUG[key] == version) ?\n",
       "        Promise.resolve(paths[lib]) :\n",
       "        new Promise(function(resolve, reject) {\n",
       "          var s = document.createElement('script');\n",
       "          document.getElementsByTagName(\"head\")[0].appendChild(s);\n",
       "          s.async = true;\n",
       "          s.onload = () => {\n",
       "            VEGA_DEBUG[key] = version;\n",
       "            return resolve(paths[lib]);\n",
       "          };\n",
       "          s.onerror = () => reject(`Error loading script: ${paths[lib]}`);\n",
       "          s.src = paths[lib];\n",
       "        });\n",
       "    }\n",
       "\n",
       "    function showError(err) {\n",
       "      outputDiv.innerHTML = `<div class=\"error\" style=\"color:red;\">${err}</div>`;\n",
       "      throw err;\n",
       "    }\n",
       "\n",
       "    function displayChart(vegaEmbed) {\n",
       "      vegaEmbed(outputDiv, spec, embedOpt)\n",
       "        .catch(err => showError(`Javascript Error: ${err.message}<br>This usually means there's a typo in your chart specification. See the javascript console for the full traceback.`));\n",
       "    }\n",
       "\n",
       "    if(typeof define === \"function\" && define.amd) {\n",
       "      requirejs.config({paths});\n",
       "      require([\"vega-embed\"], displayChart, err => showError(`Error loading script: ${err.message}`));\n",
       "    } else {\n",
       "      maybeLoadScript(\"vega\", \"5\")\n",
       "        .then(() => maybeLoadScript(\"vega-lite\", \"4.17.0\"))\n",
       "        .then(() => maybeLoadScript(\"vega-embed\", \"6\"))\n",
       "        .catch(showError)\n",
       "        .then(() => displayChart(vegaEmbed));\n",
       "    }\n",
       "  })({\"config\": {\"view\": {\"continuousWidth\": 400, \"continuousHeight\": 300, \"strokeOpacity\": 0}}, \"data\": {\"name\": \"data-541aa0adc9b027bc31ec4741a7882b53\"}, \"mark\": \"bar\", \"encoding\": {\"color\": {\"field\": \"Legend\", \"scale\": {\"range\": [\"#f88c24\", \"#227f9f\"]}, \"type\": \"nominal\"}, \"column\": {\"field\": \"c1\", \"title\": \"Test Cases\", \"type\": \"nominal\"}, \"x\": {\"field\": \"c2\", \"title\": null, \"type\": \"nominal\"}, \"y\": {\"aggregate\": \"sum\", \"axis\": {\"grid\": false, \"title\": \"Backtraced Nodes\"}, \"field\": \"values\", \"type\": \"quantitative\"}}, \"$schema\": \"https://vega.github.io/schema/vega-lite/v4.17.0.json\", \"datasets\": {\"data-541aa0adc9b027bc31ec4741a7882b53\": [{\"c1\": \"d-10-01\", \"c2\": \"VAH1\", \"values\": 9.856815144337697, \"Legend\": \"FC\"}, {\"c1\": \"d-10-01\", \"c2\": \"VAH2\", \"values\": 18.566188339706937, \"Legend\": \"FC\"}, {\"c1\": \"d-10-01\", \"c2\": \"VAH3\", \"values\": 5.69035945432406, \"Legend\": \"FC\"}, {\"c1\": \"d-10-01\", \"c2\": \"VAH4\", \"values\": 5.945420608606575, \"Legend\": \"FC\"}, {\"c1\": \"d-10-01\", \"c2\": \"VAH5\", \"values\": 18.6084292233273, \"Legend\": \"FC\"}, {\"c1\": \"d-10-06\", \"c2\": \"VAH1\", \"values\": 12.801954235716066, \"Legend\": \"FC\"}, {\"c1\": \"d-10-06\", \"c2\": \"VAH2\", \"values\": 14.956327564749603, \"Legend\": \"FC\"}, {\"c1\": \"d-10-06\", \"c2\": \"VAH3\", \"values\": 10.838266322522415, \"Legend\": \"FC\"}, {\"c1\": \"d-10-06\", \"c2\": \"VAH4\", \"values\": 10.84910404979211, \"Legend\": \"FC\"}, {\"c1\": \"d-10-06\", \"c2\": \"VAH5\", \"values\": 15.906945391735078, \"Legend\": \"FC\"}, {\"c1\": \"d-10-07\", \"c2\": \"VAH1\", \"values\": 11.562829294498412, \"Legend\": \"FC\"}, {\"c1\": \"d-10-07\", \"c2\": \"VAH2\", \"values\": 17.82560180896149, \"Legend\": \"FC\"}, {\"c1\": \"d-10-07\", \"c2\": \"VAH3\", \"values\": 8.812396905266864, \"Legend\": \"FC\"}, {\"c1\": \"d-10-07\", \"c2\": \"VAH4\", \"values\": 9.321255432547337, \"Legend\": \"FC\"}, {\"c1\": \"d-10-07\", \"c2\": \"VAH5\", \"values\": 17.643580051817793, \"Legend\": \"FC\"}, {\"c1\": \"d-10-08\", \"c2\": \"VAH1\", \"values\": 13.08363918096622, \"Legend\": \"FC\"}, {\"c1\": \"d-10-08\", \"c2\": \"VAH2\", \"values\": 14.93765673938565, \"Legend\": \"FC\"}, {\"c1\": \"d-10-08\", \"c2\": \"VAH3\", \"values\": 14.411637347141394, \"Legend\": \"FC\"}, {\"c1\": \"d-10-08\", \"c2\": \"VAH4\", \"values\": 14.425584234289952, \"Legend\": \"FC\"}, {\"c1\": \"d-10-08\", \"c2\": \"VAH5\", \"values\": 12.62118110668557, \"Legend\": \"FC\"}, {\"c1\": \"d-10-09\", \"c2\": \"VAH1\", \"values\": 10.203999469426009, \"Legend\": \"FC\"}, {\"c1\": \"d-10-09\", \"c2\": \"VAH2\", \"values\": 22.076057780432926, \"Legend\": \"FC\"}, {\"c1\": \"d-10-09\", \"c2\": \"VAH3\", \"values\": 13.819892941279646, \"Legend\": \"FC\"}, {\"c1\": \"d-10-09\", \"c2\": \"VAH4\", \"values\": 14.092861194451558, \"Legend\": \"FC\"}, {\"c1\": \"d-10-09\", \"c2\": \"VAH5\", \"values\": 20.435017897755575, \"Legend\": \"FC\"}, {\"c1\": \"d-10-01\", \"c2\": \"VAH1\", \"values\": 13.907749663206522, \"Legend\": \"BT\"}, {\"c1\": \"d-10-01\", \"c2\": \"VAH2\", \"values\": 15.82032081751068, \"Legend\": \"BT\"}, {\"c1\": \"d-10-01\", \"c2\": \"VAH3\", \"values\": 13.284825705300264, \"Legend\": \"BT\"}, {\"c1\": \"d-10-01\", \"c2\": \"VAH4\", \"values\": 13.284825705300264, \"Legend\": \"BT\"}, {\"c1\": \"d-10-01\", \"c2\": \"VAH5\", \"values\": 18.871266759399713, \"Legend\": \"BT\"}, {\"c1\": \"d-10-06\", \"c2\": \"VAH1\", \"values\": 12.780087130051777, \"Legend\": \"BT\"}, {\"c1\": \"d-10-06\", \"c2\": \"VAH2\", \"values\": 13.160674061221878, \"Legend\": \"BT\"}, {\"c1\": \"d-10-06\", \"c2\": \"VAH3\", \"values\": 11.033646956702368, \"Legend\": \"BT\"}, {\"c1\": \"d-10-06\", \"c2\": \"VAH4\", \"values\": 11.033372384508345, \"Legend\": \"BT\"}, {\"c1\": \"d-10-06\", \"c2\": \"VAH5\", \"values\": 14.211328615891704, \"Legend\": \"BT\"}, {\"c1\": \"d-10-07\", \"c2\": \"VAH1\", \"values\": 12.496878583628968, \"Legend\": \"BT\"}, {\"c1\": \"d-10-07\", \"c2\": \"VAH2\", \"values\": 15.936714411927014, \"Legend\": \"BT\"}, {\"c1\": \"d-10-07\", \"c2\": \"VAH3\", \"values\": 11.615653518738686, \"Legend\": \"BT\"}, {\"c1\": \"d-10-07\", \"c2\": \"VAH4\", \"values\": 11.615653518738686, \"Legend\": \"BT\"}, {\"c1\": \"d-10-07\", \"c2\": \"VAH5\", \"values\": 19.534243538108502, \"Legend\": \"BT\"}, {\"c1\": \"d-10-08\", \"c2\": \"VAH1\", \"values\": 14.022653987286857, \"Legend\": \"BT\"}, {\"c1\": \"d-10-08\", \"c2\": \"VAH2\", \"values\": 20.336531371470006, \"Legend\": \"BT\"}, {\"c1\": \"d-10-08\", \"c2\": \"VAH3\", \"values\": 18.272882670194683, \"Legend\": \"BT\"}, {\"c1\": \"d-10-08\", \"c2\": \"VAH4\", \"values\": 18.272882670194683, \"Legend\": \"BT\"}, {\"c1\": \"d-10-08\", \"c2\": \"VAH5\", \"values\": 20.101306777349123, \"Legend\": \"BT\"}, {\"c1\": \"d-10-09\", \"c2\": \"VAH1\", \"values\": 15.118499665925588, \"Legend\": \"BT\"}, {\"c1\": \"d-10-09\", \"c2\": \"VAH2\", \"values\": 13.288931497852165, \"Legend\": \"BT\"}, {\"c1\": \"d-10-09\", \"c2\": \"VAH3\", \"values\": 17.697794405887844, \"Legend\": \"BT\"}, {\"c1\": \"d-10-09\", \"c2\": \"VAH4\", \"values\": 17.708469595220407, \"Legend\": \"BT\"}, {\"c1\": \"d-10-09\", \"c2\": \"VAH5\", \"values\": 19.17177508748564, \"Legend\": \"BT\"}]}}, {\"renderer\": \"svg\", \"mode\": \"vega-lite\"});\n",
       "</script>"
      ],
      "text/plain": [
       "alt.Chart(...)"
      ]
     },
     "metadata": {},
     "output_type": "display_data"
    }
   ],
   "source": [
    "chart = alt.Chart(df).mark_bar().encode(\n",
    "\n",
    "    # tell Altair which field to group columns on\n",
    "    x=alt.X('c2:N', title=None),\n",
    "\n",
    "    # tell Altair which field to use as Y values and how to calculate\n",
    "    y=alt.Y('sum(values):Q',\n",
    "        axis=alt.Axis(\n",
    "            grid=False,\n",
    "            title=('Backtraced Nodes'))),\n",
    "\n",
    "    # tell Altair which field to use to use as the set of columns to be  represented in each group\n",
    "    column=alt.Column('c1:N', title='Test Cases'),\n",
    "\n",
    "    # tell Altair which field to use for color segmentation \n",
    "    color=alt.Color('Legend:N',\n",
    "            scale=alt.Scale(\n",
    "                # make it look pretty with an enjoyable color pallet\n",
    "                # range=['#96ceb4', '#ffcc5c'],\n",
    "                # range=['#ffae49', '#5bbbe9'],\n",
    "                range=['#f88c24', '#227f9f'],\n",
    "            ),\n",
    "        ))\\\n",
    "    .configure_view(\n",
    "        # remove grid lines around column clusters\n",
    "        strokeOpacity=0    \n",
    "    )\n",
    "chart.display(renderer='svg')"
   ]
  },
  {
   "cell_type": "code",
   "execution_count": null,
   "metadata": {},
   "outputs": [],
   "source": []
  }
 ],
 "metadata": {
  "kernelspec": {
   "display_name": "rumana_assignment",
   "language": "python",
   "name": "python3"
  },
  "language_info": {
   "codemirror_mode": {
    "name": "ipython",
    "version": 3
   },
   "file_extension": ".py",
   "mimetype": "text/x-python",
   "name": "python",
   "nbconvert_exporter": "python",
   "pygments_lexer": "ipython3",
   "version": "3.10.4"
  },
  "orig_nbformat": 4,
  "vscode": {
   "interpreter": {
    "hash": "953946e36fefdb029d928b4cc95506a8bb25a1bc08ea1b4d69cf68efb3d44080"
   }
  }
 },
 "nbformat": 4,
 "nbformat_minor": 2
}
